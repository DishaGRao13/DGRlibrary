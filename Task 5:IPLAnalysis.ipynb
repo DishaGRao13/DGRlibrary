{
  "nbformat": 4,
  "nbformat_minor": 0,
  "metadata": {
    "colab": {
      "name": "IPLAnalysis.ipynb",
      "provenance": [],
      "collapsed_sections": []
    },
    "kernelspec": {
      "name": "python3",
      "display_name": "Python 3"
    }
  },
  "cells": [
    {
      "cell_type": "markdown",
      "metadata": {
        "id": "i2XhEsaHTIZK"
      },
      "source": [
        "# **The Sparks Foundation**"
      ]
    },
    {
      "cell_type": "markdown",
      "metadata": {
        "id": "i3c_8-A3TsCm"
      },
      "source": [
        "## **Task 5 : Exploratory Data Analysis - Sports**"
      ]
    },
    {
      "cell_type": "markdown",
      "metadata": {
        "id": "7WoYMZBkUW_9"
      },
      "source": [
        "Main Highlights:\r\n",
        "\r\n",
        "1.Perform ‘Exploratory Data Analysis’ on dataset ‘Indian Premier League'\r\n",
        "\r\n",
        "2.As a sports analysts, find out the most successful teams, players and factors\r\n",
        "contributing win or loss of a team.\r\n",
        "\r\n",
        "3.Suggest teams or players a company should endorse for its products."
      ]
    },
    {
      "cell_type": "markdown",
      "metadata": {
        "id": "yFYA9JCCZrxH"
      },
      "source": [
        "Author : DISHA G RAO - #GRIPJAN21"
      ]
    },
    {
      "cell_type": "code",
      "metadata": {
        "id": "hR3vyDJXTF9G"
      },
      "source": [
        "#Importing the libraries\r\n",
        "import math\r\n",
        "import numpy as np\r\n",
        "import pandas as pd\r\n",
        "from scipy import stats\r\n",
        "import os\r\n",
        "import seaborn as sns\r\n",
        "import matplotlib.pyplot as plt "
      ],
      "execution_count": 84,
      "outputs": []
    },
    {
      "cell_type": "code",
      "metadata": {
        "id": "wlcoKTl3_E64"
      },
      "source": [
        "#loading the datset \r\n",
        "df = pd.read_csv('matches.csv')"
      ],
      "execution_count": 85,
      "outputs": []
    },
    {
      "cell_type": "code",
      "metadata": {
        "id": "COBYpqB5dfuM"
      },
      "source": [
        "df1 = pd.read_csv('deliveries.csv')"
      ],
      "execution_count": 125,
      "outputs": []
    },
    {
      "cell_type": "code",
      "metadata": {
        "colab": {
          "base_uri": "https://localhost:8080/",
          "height": 402
        },
        "id": "H4bmaZIW_NvH",
        "outputId": "1d6b9aae-1bdd-472f-d788-ccd96cc558d2"
      },
      "source": [
        "df.head()\r\n"
      ],
      "execution_count": 87,
      "outputs": [
        {
          "output_type": "execute_result",
          "data": {
            "text/html": [
              "<div>\n",
              "<style scoped>\n",
              "    .dataframe tbody tr th:only-of-type {\n",
              "        vertical-align: middle;\n",
              "    }\n",
              "\n",
              "    .dataframe tbody tr th {\n",
              "        vertical-align: top;\n",
              "    }\n",
              "\n",
              "    .dataframe thead th {\n",
              "        text-align: right;\n",
              "    }\n",
              "</style>\n",
              "<table border=\"1\" class=\"dataframe\">\n",
              "  <thead>\n",
              "    <tr style=\"text-align: right;\">\n",
              "      <th></th>\n",
              "      <th>id</th>\n",
              "      <th>season</th>\n",
              "      <th>city</th>\n",
              "      <th>date</th>\n",
              "      <th>team1</th>\n",
              "      <th>team2</th>\n",
              "      <th>toss_winner</th>\n",
              "      <th>toss_decision</th>\n",
              "      <th>result</th>\n",
              "      <th>dl_applied</th>\n",
              "      <th>winner</th>\n",
              "      <th>win_by_runs</th>\n",
              "      <th>win_by_wickets</th>\n",
              "      <th>player_of_match</th>\n",
              "      <th>venue</th>\n",
              "      <th>umpire1</th>\n",
              "      <th>umpire2</th>\n",
              "      <th>umpire3</th>\n",
              "    </tr>\n",
              "  </thead>\n",
              "  <tbody>\n",
              "    <tr>\n",
              "      <th>0</th>\n",
              "      <td>1</td>\n",
              "      <td>2017</td>\n",
              "      <td>Hyderabad</td>\n",
              "      <td>2017-04-05</td>\n",
              "      <td>Sunrisers Hyderabad</td>\n",
              "      <td>Royal Challengers Bangalore</td>\n",
              "      <td>Royal Challengers Bangalore</td>\n",
              "      <td>field</td>\n",
              "      <td>normal</td>\n",
              "      <td>0</td>\n",
              "      <td>Sunrisers Hyderabad</td>\n",
              "      <td>35</td>\n",
              "      <td>0</td>\n",
              "      <td>Yuvraj Singh</td>\n",
              "      <td>Rajiv Gandhi International Stadium, Uppal</td>\n",
              "      <td>AY Dandekar</td>\n",
              "      <td>NJ Llong</td>\n",
              "      <td>NaN</td>\n",
              "    </tr>\n",
              "    <tr>\n",
              "      <th>1</th>\n",
              "      <td>2</td>\n",
              "      <td>2017</td>\n",
              "      <td>Pune</td>\n",
              "      <td>2017-04-06</td>\n",
              "      <td>Mumbai Indians</td>\n",
              "      <td>Rising Pune Supergiant</td>\n",
              "      <td>Rising Pune Supergiant</td>\n",
              "      <td>field</td>\n",
              "      <td>normal</td>\n",
              "      <td>0</td>\n",
              "      <td>Rising Pune Supergiant</td>\n",
              "      <td>0</td>\n",
              "      <td>7</td>\n",
              "      <td>SPD Smith</td>\n",
              "      <td>Maharashtra Cricket Association Stadium</td>\n",
              "      <td>A Nand Kishore</td>\n",
              "      <td>S Ravi</td>\n",
              "      <td>NaN</td>\n",
              "    </tr>\n",
              "    <tr>\n",
              "      <th>2</th>\n",
              "      <td>3</td>\n",
              "      <td>2017</td>\n",
              "      <td>Rajkot</td>\n",
              "      <td>2017-04-07</td>\n",
              "      <td>Gujarat Lions</td>\n",
              "      <td>Kolkata Knight Riders</td>\n",
              "      <td>Kolkata Knight Riders</td>\n",
              "      <td>field</td>\n",
              "      <td>normal</td>\n",
              "      <td>0</td>\n",
              "      <td>Kolkata Knight Riders</td>\n",
              "      <td>0</td>\n",
              "      <td>10</td>\n",
              "      <td>CA Lynn</td>\n",
              "      <td>Saurashtra Cricket Association Stadium</td>\n",
              "      <td>Nitin Menon</td>\n",
              "      <td>CK Nandan</td>\n",
              "      <td>NaN</td>\n",
              "    </tr>\n",
              "    <tr>\n",
              "      <th>3</th>\n",
              "      <td>4</td>\n",
              "      <td>2017</td>\n",
              "      <td>Indore</td>\n",
              "      <td>2017-04-08</td>\n",
              "      <td>Rising Pune Supergiant</td>\n",
              "      <td>Kings XI Punjab</td>\n",
              "      <td>Kings XI Punjab</td>\n",
              "      <td>field</td>\n",
              "      <td>normal</td>\n",
              "      <td>0</td>\n",
              "      <td>Kings XI Punjab</td>\n",
              "      <td>0</td>\n",
              "      <td>6</td>\n",
              "      <td>GJ Maxwell</td>\n",
              "      <td>Holkar Cricket Stadium</td>\n",
              "      <td>AK Chaudhary</td>\n",
              "      <td>C Shamshuddin</td>\n",
              "      <td>NaN</td>\n",
              "    </tr>\n",
              "    <tr>\n",
              "      <th>4</th>\n",
              "      <td>5</td>\n",
              "      <td>2017</td>\n",
              "      <td>Bangalore</td>\n",
              "      <td>2017-04-08</td>\n",
              "      <td>Royal Challengers Bangalore</td>\n",
              "      <td>Delhi Daredevils</td>\n",
              "      <td>Royal Challengers Bangalore</td>\n",
              "      <td>bat</td>\n",
              "      <td>normal</td>\n",
              "      <td>0</td>\n",
              "      <td>Royal Challengers Bangalore</td>\n",
              "      <td>15</td>\n",
              "      <td>0</td>\n",
              "      <td>KM Jadhav</td>\n",
              "      <td>M Chinnaswamy Stadium</td>\n",
              "      <td>NaN</td>\n",
              "      <td>NaN</td>\n",
              "      <td>NaN</td>\n",
              "    </tr>\n",
              "  </tbody>\n",
              "</table>\n",
              "</div>"
            ],
            "text/plain": [
              "   id  season       city  ...         umpire1        umpire2 umpire3\n",
              "0   1    2017  Hyderabad  ...     AY Dandekar       NJ Llong     NaN\n",
              "1   2    2017       Pune  ...  A Nand Kishore         S Ravi     NaN\n",
              "2   3    2017     Rajkot  ...     Nitin Menon      CK Nandan     NaN\n",
              "3   4    2017     Indore  ...    AK Chaudhary  C Shamshuddin     NaN\n",
              "4   5    2017  Bangalore  ...             NaN            NaN     NaN\n",
              "\n",
              "[5 rows x 18 columns]"
            ]
          },
          "metadata": {
            "tags": []
          },
          "execution_count": 87
        }
      ]
    },
    {
      "cell_type": "code",
      "metadata": {
        "colab": {
          "base_uri": "https://localhost:8080/"
        },
        "id": "UN7fbwfw_Z02",
        "outputId": "88c2044f-6bc4-42ae-9f90-7c728c42c893"
      },
      "source": [
        "df.shape\r\n"
      ],
      "execution_count": 88,
      "outputs": [
        {
          "output_type": "execute_result",
          "data": {
            "text/plain": [
              "(756, 18)"
            ]
          },
          "metadata": {
            "tags": []
          },
          "execution_count": 88
        }
      ]
    },
    {
      "cell_type": "code",
      "metadata": {
        "colab": {
          "base_uri": "https://localhost:8080/"
        },
        "id": "4Xeqya6Qgp16",
        "outputId": "9bd7d8da-29a0-4a19-92d6-278ccd422da0"
      },
      "source": [
        "df1.shape"
      ],
      "execution_count": 89,
      "outputs": [
        {
          "output_type": "execute_result",
          "data": {
            "text/plain": [
              "(179078, 21)"
            ]
          },
          "metadata": {
            "tags": []
          },
          "execution_count": 89
        }
      ]
    },
    {
      "cell_type": "code",
      "metadata": {
        "colab": {
          "base_uri": "https://localhost:8080/"
        },
        "id": "Iqjt59hCAnaN",
        "outputId": "2059293a-242b-4043-a887-77f531eb1727"
      },
      "source": [
        "df.info"
      ],
      "execution_count": 90,
      "outputs": [
        {
          "output_type": "execute_result",
          "data": {
            "text/plain": [
              "<bound method DataFrame.info of         id  season  ...         umpire2                  umpire3\n",
              "0        1    2017  ...        NJ Llong                      NaN\n",
              "1        2    2017  ...          S Ravi                      NaN\n",
              "2        3    2017  ...       CK Nandan                      NaN\n",
              "3        4    2017  ...   C Shamshuddin                      NaN\n",
              "4        5    2017  ...             NaN                      NaN\n",
              "..     ...     ...  ...             ...                      ...\n",
              "751  11347    2019  ...        O Nandan                   S Ravi\n",
              "752  11412    2019  ...     Nitin Menon                Ian Gould\n",
              "753  11413    2019  ...             NaN                      NaN\n",
              "754  11414    2019  ...  Bruce Oxenford  Chettithody Shamshuddin\n",
              "755  11415    2019  ...       Ian Gould              Nigel Llong\n",
              "\n",
              "[756 rows x 18 columns]>"
            ]
          },
          "metadata": {
            "tags": []
          },
          "execution_count": 90
        }
      ]
    },
    {
      "cell_type": "code",
      "metadata": {
        "colab": {
          "base_uri": "https://localhost:8080/"
        },
        "id": "mJGPD7_LbMGC",
        "outputId": "c2d230cc-1856-4687-9e56-9a12e80b9bd8"
      },
      "source": [
        "df.dtypes #describes the data type "
      ],
      "execution_count": 91,
      "outputs": [
        {
          "output_type": "execute_result",
          "data": {
            "text/plain": [
              "id                  int64\n",
              "season              int64\n",
              "city               object\n",
              "date               object\n",
              "team1              object\n",
              "team2              object\n",
              "toss_winner        object\n",
              "toss_decision      object\n",
              "result             object\n",
              "dl_applied          int64\n",
              "winner             object\n",
              "win_by_runs         int64\n",
              "win_by_wickets      int64\n",
              "player_of_match    object\n",
              "venue              object\n",
              "umpire1            object\n",
              "umpire2            object\n",
              "umpire3            object\n",
              "dtype: object"
            ]
          },
          "metadata": {
            "tags": []
          },
          "execution_count": 91
        }
      ]
    },
    {
      "cell_type": "code",
      "metadata": {
        "colab": {
          "base_uri": "https://localhost:8080/"
        },
        "id": "q1-rFuatb6PA",
        "outputId": "7bc67e5b-28aa-4dc5-8d22-128af90ccc78"
      },
      "source": [
        "df.count() #No of elelements with the specified value"
      ],
      "execution_count": 173,
      "outputs": [
        {
          "output_type": "execute_result",
          "data": {
            "text/plain": [
              "id                 756\n",
              "season             756\n",
              "city               749\n",
              "date               756\n",
              "team1              756\n",
              "team2              756\n",
              "toss_winner        756\n",
              "toss_decision      756\n",
              "result             756\n",
              "dl_applied         756\n",
              "winner             752\n",
              "win_by_runs        756\n",
              "win_by_wickets     756\n",
              "player_of_match    752\n",
              "venue              756\n",
              "umpire1            754\n",
              "umpire2            754\n",
              "umpire3            119\n",
              "dtype: int64"
            ]
          },
          "metadata": {
            "tags": []
          },
          "execution_count": 173
        }
      ]
    },
    {
      "cell_type": "code",
      "metadata": {
        "colab": {
          "base_uri": "https://localhost:8080/",
          "height": 277
        },
        "id": "jqQW-kUvaTak",
        "outputId": "ef0d3e3e-1d86-4e84-c0d5-282268883e34"
      },
      "source": [
        "df.describe()"
      ],
      "execution_count": 174,
      "outputs": [
        {
          "output_type": "execute_result",
          "data": {
            "text/html": [
              "<div>\n",
              "<style scoped>\n",
              "    .dataframe tbody tr th:only-of-type {\n",
              "        vertical-align: middle;\n",
              "    }\n",
              "\n",
              "    .dataframe tbody tr th {\n",
              "        vertical-align: top;\n",
              "    }\n",
              "\n",
              "    .dataframe thead th {\n",
              "        text-align: right;\n",
              "    }\n",
              "</style>\n",
              "<table border=\"1\" class=\"dataframe\">\n",
              "  <thead>\n",
              "    <tr style=\"text-align: right;\">\n",
              "      <th></th>\n",
              "      <th>id</th>\n",
              "      <th>season</th>\n",
              "      <th>dl_applied</th>\n",
              "      <th>win_by_runs</th>\n",
              "      <th>win_by_wickets</th>\n",
              "    </tr>\n",
              "  </thead>\n",
              "  <tbody>\n",
              "    <tr>\n",
              "      <th>count</th>\n",
              "      <td>756.000000</td>\n",
              "      <td>756.000000</td>\n",
              "      <td>756.000000</td>\n",
              "      <td>756.000000</td>\n",
              "      <td>756.000000</td>\n",
              "    </tr>\n",
              "    <tr>\n",
              "      <th>mean</th>\n",
              "      <td>1792.178571</td>\n",
              "      <td>2013.444444</td>\n",
              "      <td>0.025132</td>\n",
              "      <td>13.283069</td>\n",
              "      <td>3.350529</td>\n",
              "    </tr>\n",
              "    <tr>\n",
              "      <th>std</th>\n",
              "      <td>3464.478148</td>\n",
              "      <td>3.366895</td>\n",
              "      <td>0.156630</td>\n",
              "      <td>23.471144</td>\n",
              "      <td>3.387963</td>\n",
              "    </tr>\n",
              "    <tr>\n",
              "      <th>min</th>\n",
              "      <td>1.000000</td>\n",
              "      <td>2008.000000</td>\n",
              "      <td>0.000000</td>\n",
              "      <td>0.000000</td>\n",
              "      <td>0.000000</td>\n",
              "    </tr>\n",
              "    <tr>\n",
              "      <th>25%</th>\n",
              "      <td>189.750000</td>\n",
              "      <td>2011.000000</td>\n",
              "      <td>0.000000</td>\n",
              "      <td>0.000000</td>\n",
              "      <td>0.000000</td>\n",
              "    </tr>\n",
              "    <tr>\n",
              "      <th>50%</th>\n",
              "      <td>378.500000</td>\n",
              "      <td>2013.000000</td>\n",
              "      <td>0.000000</td>\n",
              "      <td>0.000000</td>\n",
              "      <td>4.000000</td>\n",
              "    </tr>\n",
              "    <tr>\n",
              "      <th>75%</th>\n",
              "      <td>567.250000</td>\n",
              "      <td>2016.000000</td>\n",
              "      <td>0.000000</td>\n",
              "      <td>19.000000</td>\n",
              "      <td>6.000000</td>\n",
              "    </tr>\n",
              "    <tr>\n",
              "      <th>max</th>\n",
              "      <td>11415.000000</td>\n",
              "      <td>2019.000000</td>\n",
              "      <td>1.000000</td>\n",
              "      <td>146.000000</td>\n",
              "      <td>10.000000</td>\n",
              "    </tr>\n",
              "  </tbody>\n",
              "</table>\n",
              "</div>"
            ],
            "text/plain": [
              "                 id       season  dl_applied  win_by_runs  win_by_wickets\n",
              "count    756.000000   756.000000  756.000000   756.000000      756.000000\n",
              "mean    1792.178571  2013.444444    0.025132    13.283069        3.350529\n",
              "std     3464.478148     3.366895    0.156630    23.471144        3.387963\n",
              "min        1.000000  2008.000000    0.000000     0.000000        0.000000\n",
              "25%      189.750000  2011.000000    0.000000     0.000000        0.000000\n",
              "50%      378.500000  2013.000000    0.000000     0.000000        4.000000\n",
              "75%      567.250000  2016.000000    0.000000    19.000000        6.000000\n",
              "max    11415.000000  2019.000000    1.000000   146.000000       10.000000"
            ]
          },
          "metadata": {
            "tags": []
          },
          "execution_count": 174
        }
      ]
    },
    {
      "cell_type": "markdown",
      "metadata": {
        "id": "fIpIJJURg6Zj"
      },
      "source": [
        "## ANALYSIS OF THE DATASET"
      ]
    },
    {
      "cell_type": "markdown",
      "metadata": {
        "id": "c0LJNp9qgcDt"
      },
      "source": [
        "Matches in every season"
      ]
    },
    {
      "cell_type": "code",
      "metadata": {
        "colab": {
          "base_uri": "https://localhost:8080/"
        },
        "id": "eXqui3f2LblX",
        "outputId": "2260d9a4-2ef2-4580-f2c0-6a1b33a6063d"
      },
      "source": [
        "for team in df['team1'].unique():\n",
        "  print(team)"
      ],
      "execution_count": 93,
      "outputs": [
        {
          "output_type": "stream",
          "text": [
            "Sunrisers Hyderabad\n",
            "Mumbai Indians\n",
            "Gujarat Lions\n",
            "Rising Pune Supergiant\n",
            "Royal Challengers Bangalore\n",
            "Kolkata Knight Riders\n",
            "Delhi Daredevils\n",
            "Kings XI Punjab\n",
            "Chennai Super Kings\n",
            "Rajasthan Royals\n",
            "Deccan Chargers\n",
            "Kochi Tuskers Kerala\n",
            "Pune Warriors\n",
            "Rising Pune Supergiants\n",
            "Delhi Capitals\n"
          ],
          "name": "stdout"
        }
      ]
    },
    {
      "cell_type": "code",
      "metadata": {
        "id": "Cb2MhVFUTp6l"
      },
      "source": [
        "df[\"team2\"] = df[\"team2\"].replace(\"Rising Pune Supergiant\",\"Rising Pune Supergiants\")\r\n",
        "df[\"team1\"] = df[\"team1\"].replace(\"Rising Pune Supergiant\",\"Rising Pune Supergiants\")\r\n",
        "df[\"winner\"] = df[\"winner\"].replace(\"Rising Pune Supergiant\",\"Rising Pune Supergiants\")\r\n",
        "df[\"toss_winner\"] =df[\"toss_winner\"].replace(\"Rising Pune Supergiant\",\"Rising Pune Supergiants\")"
      ],
      "execution_count": 94,
      "outputs": []
    },
    {
      "cell_type": "code",
      "metadata": {
        "colab": {
          "base_uri": "https://localhost:8080/"
        },
        "id": "6HUYShJAaM7A",
        "outputId": "9f3eb63d-2c73-4b75-dc0f-06f8d5264ba9"
      },
      "source": [
        "df['season'].unique()"
      ],
      "execution_count": 95,
      "outputs": [
        {
          "output_type": "execute_result",
          "data": {
            "text/plain": [
              "array([2017, 2008, 2009, 2010, 2011, 2012, 2013, 2014, 2015, 2016, 2018,\n",
              "       2019])"
            ]
          },
          "metadata": {
            "tags": []
          },
          "execution_count": 95
        }
      ]
    },
    {
      "cell_type": "markdown",
      "metadata": {
        "id": "SClOwPdyh_NN"
      },
      "source": [
        "### Match winning statistics"
      ]
    },
    {
      "cell_type": "markdown",
      "metadata": {
        "id": "JW9OAkJrPBIw"
      },
      "source": [
        "### Team won by Maximum Runs"
      ]
    },
    {
      "cell_type": "code",
      "metadata": {
        "colab": {
          "base_uri": "https://localhost:8080/"
        },
        "id": "0-pqEj7VH9hL",
        "outputId": "a20a7633-b8ae-4d54-9c1c-6fc14eca2af7"
      },
      "source": [
        "df.iloc[df['win_by_runs'].idxmax()] "
      ],
      "execution_count": 96,
      "outputs": [
        {
          "output_type": "execute_result",
          "data": {
            "text/plain": [
              "id                               44\n",
              "season                         2017\n",
              "city                          Delhi\n",
              "date                     2017-05-06\n",
              "team1                Mumbai Indians\n",
              "team2              Delhi Daredevils\n",
              "toss_winner        Delhi Daredevils\n",
              "toss_decision                 field\n",
              "result                       normal\n",
              "dl_applied                        0\n",
              "winner               Mumbai Indians\n",
              "win_by_runs                     146\n",
              "win_by_wickets                    0\n",
              "player_of_match         LMP Simmons\n",
              "venue              Feroz Shah Kotla\n",
              "umpire1                 Nitin Menon\n",
              "umpire2                   CK Nandan\n",
              "umpire3                         NaN\n",
              "Name: 43, dtype: object"
            ]
          },
          "metadata": {
            "tags": []
          },
          "execution_count": 96
        }
      ]
    },
    {
      "cell_type": "code",
      "metadata": {
        "colab": {
          "base_uri": "https://localhost:8080/",
          "height": 35
        },
        "id": "hd2QlBJdNvI3",
        "outputId": "e122df97-f3ab-4cce-e436-cf9ee94fbc97"
      },
      "source": [
        "df.iloc[df['win_by_runs'].idxmax()]['winner']"
      ],
      "execution_count": 97,
      "outputs": [
        {
          "output_type": "execute_result",
          "data": {
            "application/vnd.google.colaboratory.intrinsic+json": {
              "type": "string"
            },
            "text/plain": [
              "'Mumbai Indians'"
            ]
          },
          "metadata": {
            "tags": []
          },
          "execution_count": 97
        }
      ]
    },
    {
      "cell_type": "markdown",
      "metadata": {
        "id": "2d77htAyPVZ-"
      },
      "source": [
        "### Team won by maximum wickets"
      ]
    },
    {
      "cell_type": "code",
      "metadata": {
        "colab": {
          "base_uri": "https://localhost:8080/"
        },
        "id": "wQFkx1hZPMKv",
        "outputId": "a93e93d2-ad2f-46d9-8caa-ee4f8672c597"
      },
      "source": [
        "df.iloc[df['win_by_wickets'].idxmax()]"
      ],
      "execution_count": 98,
      "outputs": [
        {
          "output_type": "execute_result",
          "data": {
            "text/plain": [
              "id                                                      3\n",
              "season                                               2017\n",
              "city                                               Rajkot\n",
              "date                                           2017-04-07\n",
              "team1                                       Gujarat Lions\n",
              "team2                               Kolkata Knight Riders\n",
              "toss_winner                         Kolkata Knight Riders\n",
              "toss_decision                                       field\n",
              "result                                             normal\n",
              "dl_applied                                              0\n",
              "winner                              Kolkata Knight Riders\n",
              "win_by_runs                                             0\n",
              "win_by_wickets                                         10\n",
              "player_of_match                                   CA Lynn\n",
              "venue              Saurashtra Cricket Association Stadium\n",
              "umpire1                                       Nitin Menon\n",
              "umpire2                                         CK Nandan\n",
              "umpire3                                               NaN\n",
              "Name: 2, dtype: object"
            ]
          },
          "metadata": {
            "tags": []
          },
          "execution_count": 98
        }
      ]
    },
    {
      "cell_type": "code",
      "metadata": {
        "colab": {
          "base_uri": "https://localhost:8080/",
          "height": 35
        },
        "id": "1okPSC1FPngg",
        "outputId": "472c9662-0831-471e-b9ef-263a7ccc2824"
      },
      "source": [
        "\r\n",
        "df.iloc[df['win_by_wickets'].idxmax()]['winner']"
      ],
      "execution_count": 99,
      "outputs": [
        {
          "output_type": "execute_result",
          "data": {
            "application/vnd.google.colaboratory.intrinsic+json": {
              "type": "string"
            },
            "text/plain": [
              "'Kolkata Knight Riders'"
            ]
          },
          "metadata": {
            "tags": []
          },
          "execution_count": 99
        }
      ]
    },
    {
      "cell_type": "markdown",
      "metadata": {
        "id": "V1lJ2wQsQBpr"
      },
      "source": [
        "### Team won by minimum runs"
      ]
    },
    {
      "cell_type": "code",
      "metadata": {
        "colab": {
          "base_uri": "https://localhost:8080/",
          "height": 35
        },
        "id": "fxXRQmp1PrSc",
        "outputId": "c6d5fc0e-843b-4189-d156-55b6e060895d"
      },
      "source": [
        "df.iloc[df[df['win_by_runs'].ge(1)].win_by_runs.idxmin()]['winner']"
      ],
      "execution_count": 100,
      "outputs": [
        {
          "output_type": "execute_result",
          "data": {
            "application/vnd.google.colaboratory.intrinsic+json": {
              "type": "string"
            },
            "text/plain": [
              "'Mumbai Indians'"
            ]
          },
          "metadata": {
            "tags": []
          },
          "execution_count": 100
        }
      ]
    },
    {
      "cell_type": "markdown",
      "metadata": {
        "id": "tsU5lSPjQ_hB"
      },
      "source": [
        "### Team won by minimum wickets"
      ]
    },
    {
      "cell_type": "code",
      "metadata": {
        "colab": {
          "base_uri": "https://localhost:8080/",
          "height": 35
        },
        "id": "MbX_vm_GQ6J4",
        "outputId": "b6f1252f-21a3-4f4c-ca0d-adaebac3938a"
      },
      "source": [
        "df.iloc[df[df['win_by_wickets'].ge(1)].win_by_wickets.idxmin()]['winner']"
      ],
      "execution_count": 101,
      "outputs": [
        {
          "output_type": "execute_result",
          "data": {
            "application/vnd.google.colaboratory.intrinsic+json": {
              "type": "string"
            },
            "text/plain": [
              "'Kolkata Knight Riders'"
            ]
          },
          "metadata": {
            "tags": []
          },
          "execution_count": 101
        }
      ]
    },
    {
      "cell_type": "markdown",
      "metadata": {
        "id": "H3-oQiI_b_9R"
      },
      "source": [
        "##### Mumbai Indians - Maximum runs and Minimum runs\r\n",
        "##### Kolkata Knight Riders - Maximum and Minimum wickets"
      ]
    },
    {
      "cell_type": "markdown",
      "metadata": {
        "id": "xaKjhW-MSKCv"
      },
      "source": [
        "### Season with more number of *matches*"
      ]
    },
    {
      "cell_type": "code",
      "metadata": {
        "id": "KaZtK9QvRFzS",
        "colab": {
          "base_uri": "https://localhost:8080/",
          "height": 402
        },
        "outputId": "6456d2c0-e31d-4f90-c692-a927801dc8cb"
      },
      "source": [
        "plt.figure(figsize = (15,6))\r\n",
        "sns.countplot(x = 'season' , data = df)\r\n",
        "plt.xticks(rotation = 'vertical')\r\n",
        "plt.show()"
      ],
      "execution_count": 102,
      "outputs": [
        {
          "output_type": "display_data",
          "data": {
            "image/png": "[encoded data removed]",
            "text/plain": [
              "<Figure size 1080x432 with 1 Axes>"
            ]
          },
          "metadata": {
            "tags": [],
            "needs_background": "light"
          }
        }
      ]
    },
    {
      "cell_type": "markdown",
      "metadata": {
        "id": "PiawQtDucQB6"
      },
      "source": [
        "##### In 2013, there are more number of matches"
      ]
    },
    {
      "cell_type": "markdown",
      "metadata": {
        "id": "-G3btqRpcY0p"
      },
      "source": [
        "#### Winning Team"
      ]
    },
    {
      "cell_type": "code",
      "metadata": {
        "colab": {
          "base_uri": "https://localhost:8080/",
          "height": 387
        },
        "id": "tNeaSI9Y4YR4",
        "outputId": "4fc26037-abf4-43f6-e6c8-ecb4304f17fe"
      },
      "source": [
        " plt.figure(figsize = (15,6))\r\n",
        "data = df.winner.value_counts()\r\n",
        "sns.barplot( y =data.index, x = data , orient='h')\r\n",
        "plt.show()"
      ],
      "execution_count": 103,
      "outputs": [
        {
          "output_type": "display_data",
          "data": {
            "image/png": "[encoded data removed]",
            "text/plain": [
              "<Figure size 1080x432 with 1 Axes>"
            ]
          },
          "metadata": {
            "tags": [],
            "needs_background": "light"
          }
        }
      ]
    },
    {
      "cell_type": "markdown",
      "metadata": {
        "id": "VieiJS8tdGtN"
      },
      "source": [
        "### Top Player of the match"
      ]
    },
    {
      "cell_type": "code",
      "metadata": {
        "colab": {
          "base_uri": "https://localhost:8080/",
          "height": 446
        },
        "id": "cX-GQ1Hp7I_u",
        "outputId": "2cd1a8ba-430e-4a18-ae03-68d85417d8f2"
      },
      "source": [
        "top_players = df.player_of_match.value_counts()[:10]\r\n",
        "fig,ax = plt.subplots(figsize=(18,6))\r\n",
        "ax.set_ylabel(\"Count\")\r\n",
        "ax.set_title (\"Top player of the match\")\r\n",
        "ax.set_ylim([0,30])\r\n",
        "plt.xticks(rotation = 'vertical')\r\n",
        "top_players.plot.bar()\r\n",
        "sns.barplot( x = top_players.index , y = top_players , orient = 'v',palette= 'winter')\r\n",
        "plt.show()"
      ],
      "execution_count": 135,
      "outputs": [
        {
          "output_type": "display_data",
          "data": {
            "image/png": "[encoded data removed]",
            "text/plain": [
              "<Figure size 1296x432 with 1 Axes>"
            ]
          },
          "metadata": {
            "tags": [],
            "needs_background": "light"
          }
        }
      ]
    },
    {
      "cell_type": "markdown",
      "metadata": {
        "id": "9rjErztuci5U"
      },
      "source": [
        "##### Chris Gayle is the most successfull player in all the matches"
      ]
    },
    {
      "cell_type": "markdown",
      "metadata": {
        "id": "NspRMTGGAOaf"
      },
      "source": [
        "### Number of matches in each venue"
      ]
    },
    {
      "cell_type": "code",
      "metadata": {
        "colab": {
          "base_uri": "https://localhost:8080/",
          "height": 541
        },
        "id": "LrXCt3q3_9sL",
        "outputId": "fccfcd13-fa9a-44ab-e630-44abea1f7fdc"
      },
      "source": [
        "plt.figure(figsize=(18,4))\r\n",
        "sns.countplot(x='venue', data=df)\r\n",
        "plt.xticks(rotation='vertical')\r\n",
        "plt.show()"
      ],
      "execution_count": 105,
      "outputs": [
        {
          "output_type": "display_data",
          "data": {
            "image/png": "[encoded data removed]",
            "text/plain": [
              "<Figure size 1296x288 with 1 Axes>"
            ]
          },
          "metadata": {
            "tags": [],
            "needs_background": "light"
          }
        }
      ]
    },
    {
      "cell_type": "markdown",
      "metadata": {
        "id": "L5MEFsj0eIor"
      },
      "source": [
        "Highest number of matches are played in Eden Gardens"
      ]
    },
    {
      "cell_type": "markdown",
      "metadata": {
        "id": "kclUXIGVD6c7"
      },
      "source": [
        "### City which hosted most watches"
      ]
    },
    {
      "cell_type": "code",
      "metadata": {
        "colab": {
          "base_uri": "https://localhost:8080/",
          "height": 345
        },
        "id": "ysmvOcA-D-9y",
        "outputId": "0aaf3759-158d-44cf-b947-b7d3c0815642"
      },
      "source": [
        "plt.figure(figsize= (14,4))\r\n",
        "df['city'].value_counts().head(10).plot.bar()\r\n",
        "plt.xticks(fontsize = 10)\r\n",
        "plt.yticks(fontsize = 10)"
      ],
      "execution_count": 114,
      "outputs": [
        {
          "output_type": "execute_result",
          "data": {
            "text/plain": [
              "(array([  0.,  20.,  40.,  60.,  80., 100., 120.]),\n",
              " <a list of 7 Text major ticklabel objects>)"
            ]
          },
          "metadata": {
            "tags": []
          },
          "execution_count": 114
        },
        {
          "output_type": "display_data",
          "data": {
            "image/png": "[encoded data removed]",
            "text/plain": [
              "<Figure size 1008x288 with 1 Axes>"
            ]
          },
          "metadata": {
            "tags": [],
            "needs_background": "light"
          }
        }
      ]
    },
    {
      "cell_type": "markdown",
      "metadata": {
        "id": "LvmetlRREWOX"
      },
      "source": [
        "Most matches are played in mumbai city"
      ]
    },
    {
      "cell_type": "markdown",
      "metadata": {
        "id": "-f457JbbDA_1"
      },
      "source": [
        "### Number of wins per team"
      ]
    },
    {
      "cell_type": "code",
      "metadata": {
        "colab": {
          "base_uri": "https://localhost:8080/",
          "height": 412
        },
        "id": "84KCbfCrAQfx",
        "outputId": "be9ceecc-1d80-4294-d502-0c72ed889670"
      },
      "source": [
        "plt.figure(figsize=(14,4))\r\n",
        "sns.countplot(x = 'winner',data =df)\r\n",
        "plt.xticks(rotation = 'vertical')\r\n",
        "\r\n",
        "plt.show()"
      ],
      "execution_count": 106,
      "outputs": [
        {
          "output_type": "display_data",
          "data": {
            "image/png": "[encoded data removed]",
            "text/plain": [
              "<Figure size 1008x288 with 1 Axes>"
            ]
          },
          "metadata": {
            "tags": [],
            "needs_background": "light"
          }
        }
      ]
    },
    {
      "cell_type": "markdown",
      "metadata": {
        "id": "Jfrfr2qPqn5q"
      },
      "source": [
        "### Toss winning with Match winning"
      ]
    },
    {
      "cell_type": "code",
      "metadata": {
        "colab": {
          "base_uri": "https://localhost:8080/",
          "height": 350
        },
        "id": "CbZmizpVqpnD",
        "outputId": "a7a4e705-10bd-438a-e83a-7f85d3127164"
      },
      "source": [
        "sns.countplot(df['toss_winner'] == df['winner'])\r\n",
        "plt.title(\"Toss winning with match winning\")\r\n",
        "              "
      ],
      "execution_count": 107,
      "outputs": [
        {
          "output_type": "stream",
          "text": [
            "/usr/local/lib/python3.6/dist-packages/seaborn/_decorators.py:43: FutureWarning: Pass the following variable as a keyword arg: x. From version 0.12, the only valid positional argument will be `data`, and passing other arguments without an explicit keyword will result in an error or misinterpretation.\n",
            "  FutureWarning\n"
          ],
          "name": "stderr"
        },
        {
          "output_type": "execute_result",
          "data": {
            "text/plain": [
              "Text(0.5, 1.0, 'Toss winning with match winning')"
            ]
          },
          "metadata": {
            "tags": []
          },
          "execution_count": 107
        },
        {
          "output_type": "display_data",
          "data": {
            "image/png": "[encoded data removed]",
            "text/plain": [
              "<Figure size 432x288 with 1 Axes>"
            ]
          },
          "metadata": {
            "tags": [],
            "needs_background": "light"
          }
        }
      ]
    },
    {
      "cell_type": "markdown",
      "metadata": {
        "id": "cL9ypry2HSjR"
      },
      "source": [
        "If the team wins the toss, chances of team winning the match gets increased"
      ]
    },
    {
      "cell_type": "markdown",
      "metadata": {
        "id": "rjDw_NT2rLJ-"
      },
      "source": [
        "### Decision taken after winning the toss"
      ]
    },
    {
      "cell_type": "code",
      "metadata": {
        "colab": {
          "base_uri": "https://localhost:8080/",
          "height": 251
        },
        "id": "JbKJkIx4q8un",
        "outputId": "e472deac-2cdc-42bc-ccbb-c38896a01efc"
      },
      "source": [
        "toss_decision = df['toss_decision'].value_counts()\r\n",
        "color =['Red','Green']\r\n",
        "myexplode = [0.2,0.04]\r\n",
        "plt.pie(toss_decision,labels=toss_decision.index,explode=myexplode,shadow = True,colors=color,autopct='%1.1f%%')\r\n",
        "plt.show()"
      ],
      "execution_count": 108,
      "outputs": [
        {
          "output_type": "display_data",
          "data": {
            "image/png": "[encoded data removed]",
            "text/plain": [
              "<Figure size 432x288 with 1 Axes>"
            ]
          },
          "metadata": {
            "tags": []
          }
        }
      ]
    },
    {
      "cell_type": "markdown",
      "metadata": {
        "id": "BRygpWNoe3vB"
      },
      "source": [
        "There are 61.2% chance of choosing the fielding after winning the toss and 38.8% to choose batting respectively"
      ]
    },
    {
      "cell_type": "markdown",
      "metadata": {
        "id": "1ARebZmPfFxl"
      },
      "source": [
        "### Championships per team"
      ]
    },
    {
      "cell_type": "code",
      "metadata": {
        "colab": {
          "base_uri": "https://localhost:8080/",
          "height": 553
        },
        "id": "vvv1hQCWfKwg",
        "outputId": "59e66615-3f92-4259-8945-9a4cfb35d3df"
      },
      "source": [
        "plt.subplots(figsize=(15,5))\r\n",
        "sns.countplot('winner',data = df )\r\n",
        "plt.title('Championship', fontsize =30)\r\n",
        "plt.xlabel('Teams' , fontsize = 15)\r\n",
        "plt.ylabel('season won' , fontsize = 15)\r\n",
        "plt.xticks(rotation = 'vertical')\r\n",
        "plt.show()"
      ],
      "execution_count": 175,
      "outputs": [
        {
          "output_type": "stream",
          "text": [
            "/usr/local/lib/python3.6/dist-packages/seaborn/_decorators.py:43: FutureWarning: Pass the following variable as a keyword arg: x. From version 0.12, the only valid positional argument will be `data`, and passing other arguments without an explicit keyword will result in an error or misinterpretation.\n",
            "  FutureWarning\n"
          ],
          "name": "stderr"
        },
        {
          "output_type": "display_data",
          "data": {
            "image/png": "[encoded data removed]",
            "text/plain": [
              "<Figure size 1080x360 with 1 Axes>"
            ]
          },
          "metadata": {
            "tags": [],
            "needs_background": "light"
          }
        }
      ]
    },
    {
      "cell_type": "markdown",
      "metadata": {
        "id": "L6GfGTPZC_Jv"
      },
      "source": [
        "### Most matches won by teams per season"
      ]
    },
    {
      "cell_type": "code",
      "metadata": {
        "id": "rErmTPCkl883",
        "colab": {
          "base_uri": "https://localhost:8080/"
        },
        "outputId": "6ceb24fc-09da-458c-a273-76fe0269013b"
      },
      "source": [
        "for i in range(2008,2020):\r\n",
        "  mat = df[df['season'] == i] ['winner'].value_counts().head(2)\r\n",
        "  print(f'Season {i} { mat.index[0]} won most matches : {mat[0]}')"
      ],
      "execution_count": 112,
      "outputs": [
        {
          "output_type": "stream",
          "text": [
            "Season 2008 Rajasthan Royals won most matches : 13\n",
            "Season 2009 Delhi Daredevils won most matches : 10\n",
            "Season 2010 Mumbai Indians won most matches : 11\n",
            "Season 2011 Chennai Super Kings won most matches : 11\n",
            "Season 2012 Kolkata Knight Riders won most matches : 12\n",
            "Season 2013 Mumbai Indians won most matches : 13\n",
            "Season 2014 Kings XI Punjab won most matches : 12\n",
            "Season 2015 Chennai Super Kings won most matches : 10\n",
            "Season 2016 Sunrisers Hyderabad won most matches : 11\n",
            "Season 2017 Mumbai Indians won most matches : 12\n",
            "Season 2018 Chennai Super Kings won most matches : 11\n",
            "Season 2019 Mumbai Indians won most matches : 11\n"
          ],
          "name": "stdout"
        }
      ]
    },
    {
      "cell_type": "markdown",
      "metadata": {
        "id": "U8RT-GkEFS1R"
      },
      "source": [
        "### Total Super overs"
      ]
    },
    {
      "cell_type": "code",
      "metadata": {
        "colab": {
          "base_uri": "https://localhost:8080/"
        },
        "id": "1XQesTXkFV9Y",
        "outputId": "b361aed5-24ad-478e-c4cf-6bde981e9f2a"
      },
      "source": [
        "print(f\"Total super overs : {df1['is_super_over'].value_counts()[1]}\")"
      ],
      "execution_count": 133,
      "outputs": [
        {
          "output_type": "stream",
          "text": [
            "Total super overs : 81\n"
          ],
          "name": "stdout"
        }
      ]
    },
    {
      "cell_type": "markdown",
      "metadata": {
        "id": "IrFW0XlwZJPa"
      },
      "source": [
        "### Most successfull in super overs"
      ]
    },
    {
      "cell_type": "code",
      "metadata": {
        "colab": {
          "base_uri": "https://localhost:8080/",
          "height": 351
        },
        "id": "P-A3LAdYOuBc",
        "outputId": "dfa112db-d860-4bfe-a84d-07f667dff4fc"
      },
      "source": [
        "super_overs = df1[df1['is_super_over'] == 1].groupby('batsman')['total_runs'].sum().sort_values(ascending = False).head()\r\n",
        "super_overs.plot(kind = 'bar' , figsize = (14,4))"
      ],
      "execution_count": 139,
      "outputs": [
        {
          "output_type": "execute_result",
          "data": {
            "text/plain": [
              "<matplotlib.axes._subplots.AxesSubplot at 0x7fc394bb2b70>"
            ]
          },
          "metadata": {
            "tags": []
          },
          "execution_count": 139
        },
        {
          "output_type": "display_data",
          "data": {
            "image/png": "[encoded data removed]",
            "text/plain": [
              "<Figure size 1008x288 with 1 Axes>"
            ]
          },
          "metadata": {
            "tags": [],
            "needs_background": "light"
          }
        }
      ]
    },
    {
      "cell_type": "markdown",
      "metadata": {
        "id": "e3XsLqV9PW_D"
      },
      "source": [
        "Chris Gayle is most destructive batsmen in super over with max runs"
      ]
    },
    {
      "cell_type": "markdown",
      "metadata": {
        "id": "eQ-N7-yqVrl6"
      },
      "source": [
        "### Most successful in super overs in terms of wickets"
      ]
    },
    {
      "cell_type": "code",
      "metadata": {
        "colab": {
          "base_uri": "https://localhost:8080/",
          "height": 398
        },
        "id": "ncVNF1T1Vqq3",
        "outputId": "ce15c914-ea59-49a1-b042-b3a23d8ab2a9"
      },
      "source": [
        "super_overs = df1[(df1['is_super_over'] == 1) & (df1['player_dismissed'].notnull())].groupby('bowler')['player_dismissed'].count().sort_values(ascending = False).head()\r\n",
        "super_overs.plot(kind='bar',figsize=(15, 5))"
      ],
      "execution_count": 170,
      "outputs": [
        {
          "output_type": "execute_result",
          "data": {
            "text/plain": [
              "<matplotlib.axes._subplots.AxesSubplot at 0x7fc394b9ff98>"
            ]
          },
          "metadata": {
            "tags": []
          },
          "execution_count": 170
        },
        {
          "output_type": "display_data",
          "data": {
            "image/png": "[encoded data removed]",
            "text/plain": [
              "<Figure size 1080x360 with 1 Axes>"
            ]
          },
          "metadata": {
            "tags": [],
            "needs_background": "light"
          }
        }
      ]
    },
    {
      "cell_type": "markdown",
      "metadata": {
        "id": "7HXN9F_AVztB"
      },
      "source": [
        "JP Faulkner is most difficult bowler to face in Super Over."
      ]
    },
    {
      "cell_type": "markdown",
      "metadata": {
        "id": "WxHHWLomXycH"
      },
      "source": [
        "#### Players with most 4s "
      ]
    },
    {
      "cell_type": "code",
      "metadata": {
        "colab": {
          "base_uri": "https://localhost:8080/",
          "height": 367
        },
        "id": "0G6JOJDfViLw",
        "outputId": "32965a24-3f95-46a3-eb70-41686330101a"
      },
      "source": [
        "df1[df1['batsman_runs'] == 4].groupby('batsman')['batsman_runs'].count().sort_values(ascending = False).head(15).plot(kind='bar', title='Top 15 players with most 4s', figsize=(14,4), color='red')"
      ],
      "execution_count": 171,
      "outputs": [
        {
          "output_type": "execute_result",
          "data": {
            "text/plain": [
              "<matplotlib.axes._subplots.AxesSubplot at 0x7fc394b9f080>"
            ]
          },
          "metadata": {
            "tags": []
          },
          "execution_count": 171
        },
        {
          "output_type": "display_data",
          "data": {
            "image/png": "[encoded data removed]",
            "text/plain": [
              "<Figure size 1008x288 with 1 Axes>"
            ]
          },
          "metadata": {
            "tags": [],
            "needs_background": "light"
          }
        }
      ]
    },
    {
      "cell_type": "markdown",
      "metadata": {
        "id": "jJvjYGkuX5F2"
      },
      "source": [
        "#### Players with most 6s "
      ]
    },
    {
      "cell_type": "code",
      "metadata": {
        "colab": {
          "base_uri": "https://localhost:8080/",
          "height": 367
        },
        "id": "M5r_ZNzYXtTC",
        "outputId": "8f157e4c-da8a-4ddc-dbe5-579186182dd3"
      },
      "source": [
        "df1[df1['batsman_runs'] == 6].groupby('batsman')['batsman_runs'].count().sort_values(ascending = False).head(15).plot(kind='bar', title='Top 15 players with most 4s', figsize=(14,4), color='red')"
      ],
      "execution_count": 172,
      "outputs": [
        {
          "output_type": "execute_result",
          "data": {
            "text/plain": [
              "<matplotlib.axes._subplots.AxesSubplot at 0x7fc39cad0cf8>"
            ]
          },
          "metadata": {
            "tags": []
          },
          "execution_count": 172
        },
        {
          "output_type": "display_data",
          "data": {
            "image/png": "[encoded data removed]",
            "text/plain": [
              "<Figure size 1008x288 with 1 Axes>"
            ]
          },
          "metadata": {
            "tags": [],
            "needs_background": "light"
          }
        }
      ]
    },
    {
      "cell_type": "markdown",
      "metadata": {
        "id": "IUa-aq6kYD47"
      },
      "source": [
        "Shikhar Dhawan - most number of fours in IPL history.\r\n",
        "\r\n",
        "Chirs Gayle - most number of sixes in IPL history.\r\n"
      ]
    },
    {
      "cell_type": "markdown",
      "metadata": {
        "id": "-mZP1fMkdRiP"
      },
      "source": [
        "Thank You"
      ]
    },
    {
      "cell_type": "code",
      "metadata": {
        "id": "IZVQU2kobin6"
      },
      "source": [
        ""
      ],
      "execution_count": null,
      "outputs": []
    }
  ]
}
